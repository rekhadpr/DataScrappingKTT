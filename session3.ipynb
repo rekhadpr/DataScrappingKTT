{
 "cells": [
  {
   "cell_type": "code",
   "execution_count": 1,
   "metadata": {},
   "outputs": [],
   "source": [
    "#### JS interaction\n",
    "### Interact with elements on webpage"
   ]
  },
  {
   "cell_type": "code",
   "execution_count": 2,
   "metadata": {},
   "outputs": [],
   "source": [
    "from selenium import webdriver\n",
    "import pandas as pd"
   ]
  },
  {
   "cell_type": "code",
   "execution_count": 3,
   "metadata": {},
   "outputs": [],
   "source": [
    "browser=webdriver.Firefox()"
   ]
  },
  {
   "cell_type": "code",
   "execution_count": 4,
   "metadata": {},
   "outputs": [],
   "source": [
    "url=\"https://www.mohfw.gov.in\""
   ]
  },
  {
   "cell_type": "code",
   "execution_count": 6,
   "metadata": {},
   "outputs": [],
   "source": [
    "browser.get(url)"
   ]
  },
  {
   "cell_type": "code",
   "execution_count": 7,
   "metadata": {},
   "outputs": [],
   "source": [
    "link_table=browser.find_element_by_css_selector(\"a.open-table\")"
   ]
  },
  {
   "cell_type": "code",
   "execution_count": 8,
   "metadata": {},
   "outputs": [],
   "source": [
    "link_table.click()"
   ]
  },
  {
   "cell_type": "code",
   "execution_count": 9,
   "metadata": {},
   "outputs": [],
   "source": [
    "html=browser.page_source"
   ]
  },
  {
   "cell_type": "code",
   "execution_count": 10,
   "metadata": {},
   "outputs": [],
   "source": [
    "url=\"https://www.worldometers.info/coronavirus/country/india/\""
   ]
  },
  {
   "cell_type": "code",
   "execution_count": 12,
   "metadata": {},
   "outputs": [],
   "source": [
    "browser.get(url)"
   ]
  },
  {
   "cell_type": "code",
   "execution_count": 13,
   "metadata": {},
   "outputs": [],
   "source": [
    "js=\"return Highcharts.charts[0].series[0].xAxis.categories\""
   ]
  },
  {
   "cell_type": "code",
   "execution_count": 14,
   "metadata": {},
   "outputs": [
    {
     "data": {
      "text/plain": [
       "['Feb 15',\n",
       " 'Feb 16',\n",
       " 'Feb 17',\n",
       " 'Feb 18',\n",
       " 'Feb 19',\n",
       " 'Feb 20',\n",
       " 'Feb 21',\n",
       " 'Feb 22',\n",
       " 'Feb 23',\n",
       " 'Feb 24',\n",
       " 'Feb 25',\n",
       " 'Feb 26',\n",
       " 'Feb 27',\n",
       " 'Feb 28',\n",
       " 'Feb 29',\n",
       " 'Mar 01',\n",
       " 'Mar 02',\n",
       " 'Mar 03',\n",
       " 'Mar 04',\n",
       " 'Mar 05',\n",
       " 'Mar 06',\n",
       " 'Mar 07',\n",
       " 'Mar 08',\n",
       " 'Mar 09',\n",
       " 'Mar 10',\n",
       " 'Mar 11',\n",
       " 'Mar 12',\n",
       " 'Mar 13',\n",
       " 'Mar 14',\n",
       " 'Mar 15',\n",
       " 'Mar 16',\n",
       " 'Mar 17',\n",
       " 'Mar 18',\n",
       " 'Mar 19',\n",
       " 'Mar 20',\n",
       " 'Mar 21',\n",
       " 'Mar 22',\n",
       " 'Mar 23',\n",
       " 'Mar 24',\n",
       " 'Mar 25',\n",
       " 'Mar 26',\n",
       " 'Mar 27',\n",
       " 'Mar 28',\n",
       " 'Mar 29',\n",
       " 'Mar 30',\n",
       " 'Mar 31',\n",
       " 'Apr 01',\n",
       " 'Apr 02',\n",
       " 'Apr 03',\n",
       " 'Apr 04',\n",
       " 'Apr 05',\n",
       " 'Apr 06',\n",
       " 'Apr 07',\n",
       " 'Apr 08',\n",
       " 'Apr 09',\n",
       " 'Apr 10',\n",
       " 'Apr 11',\n",
       " 'Apr 12',\n",
       " 'Apr 13']"
      ]
     },
     "execution_count": 14,
     "metadata": {},
     "output_type": "execute_result"
    }
   ],
   "source": [
    "browser.execute_script(js)"
   ]
  },
  {
   "cell_type": "code",
   "execution_count": 15,
   "metadata": {},
   "outputs": [],
   "source": [
    "url=\"https://api.covid19india.org/website_data.json\""
   ]
  },
  {
   "cell_type": "code",
   "execution_count": 16,
   "metadata": {},
   "outputs": [],
   "source": [
    "import requests"
   ]
  },
  {
   "cell_type": "code",
   "execution_count": 18,
   "metadata": {},
   "outputs": [],
   "source": [
    "data=requests.get(url).json()"
   ]
  },
  {
   "cell_type": "code",
   "execution_count": 19,
   "metadata": {},
   "outputs": [
    {
     "data": {
      "text/plain": [
       "dict_keys(['factoids', 'faq'])"
      ]
     },
     "execution_count": 19,
     "metadata": {},
     "output_type": "execute_result"
    }
   ],
   "source": [
    "data.keys()"
   ]
  },
  {
   "cell_type": "code",
   "execution_count": 20,
   "metadata": {},
   "outputs": [
    {
     "data": {
      "text/plain": [
       "[{'banner': \"Don't hoard groceries and essentials. Please ensure that people who are in need don't face a shortage because of you!\",\n",
       "  'id': '1'},\n",
       " {'banner': \"Be compassionate! Help those in need like the elderly and poor. They are facing a crisis which we can't even imagine!\",\n",
       "  'id': '2'},\n",
       " {'banner': 'Be considerate. While buying essentials remember that you need to share with 130 crore fellow citizens!',\n",
       "  'id': '3'},\n",
       " {'banner': 'Going out to buy essentials? Social Distancing is KEY! Maintain at least 2 metres distance between each other in the line.',\n",
       "  'id': '4'},\n",
       " {'banner': 'Plan ahead! Take a minute and check how much supplies you have at home. Planning lets you buy exactly what you need.',\n",
       "  'id': '5'},\n",
       " {'banner': 'Plan and calculate your essential needs for the next three weeks.',\n",
       "  'id': '6'},\n",
       " {'banner': 'Help out the elderly by bringing them their groceries and other essentials.',\n",
       "  'id': '7'},\n",
       " {'banner': 'Help out your employees and domestic workers by not cutting their salaries. Show the true Indian spirit!',\n",
       "  'id': '8'},\n",
       " {'banner': 'Lockdown means LOCKDOWN! Avoid going out unless absolutely necessary. Stay safe!',\n",
       "  'id': '9'},\n",
       " {'banner': 'Panic mode : OFF! ❌\\nESSENTIALS ARE ON! ✔️', 'id': '10'},\n",
       " {'banner': 'Your essential needs will be taken care of by the government in a timely manner. Please do not hoard.',\n",
       "  'id': '11'},\n",
       " {'banner': 'Be a true Indian. Show compassion, Be considerate,Help those in need. We will get through this!',\n",
       "  'id': '12'},\n",
       " {'banner': 'If you have symptoms and suspect you have coronavirus - reach out to your doctor or call state helplines. 📞 Get help.',\n",
       "  'id': '13'},\n",
       " {'banner': 'Stand against FAKE news and illegit WhatsApp forwards! Do NOT ❌ forward a message until you verify the content it contains.',\n",
       "  'id': '14'},\n",
       " {'banner': 'If you have any medical queries, reach out to your state helpline, district administration or trusted doctors!',\n",
       "  'id': '15'},\n",
       " {'banner': 'Wash your hands with soap and water often, especially after a grocery run. Keep the virus at bay.',\n",
       "  'id': '16'},\n",
       " {'banner': 'There is no evidence that hot weather will stop the virus! You can! Stay home, stay safe.',\n",
       "  'id': '17'},\n",
       " {'banner': 'Help the medical fraternity by staying at home!', 'id': '18'},\n",
       " {'banner': 'Avoid going out during the lockdown. Help break the chain of spread.',\n",
       "  'id': '19'},\n",
       " {'banner': 'Call up your loved ones during the lockdown, support each other through these times.',\n",
       "  'id': '20'},\n",
       " {'banner': 'The virus does not discriminate. Why do you? DO NOT DISCRIMINATE. We are all Indians!',\n",
       "  'id': '21'},\n",
       " {'banner': 'Our brothers from the North-East are just as Indian as you! Help everyone during this crisis ❤️',\n",
       "  'id': '22'},\n",
       " {'banner': \"Get in touch with your local NGO's and district administration to volunteer for this cause.\",\n",
       "  'id': '23'},\n",
       " {'banner': 'This will pass too. Enjoy your time at home and spend quality time with your family! Things will be normal soon.',\n",
       "  'id': '24'},\n",
       " {'banner': '#BreakTheChain of unverified WhatsApp forwards which spread wrong information! Do not forward unless you verify it.',\n",
       "  'id': '25'}]"
      ]
     },
     "execution_count": 20,
     "metadata": {},
     "output_type": "execute_result"
    }
   ],
   "source": [
    "data['factoids']"
   ]
  },
  {
   "cell_type": "code",
   "execution_count": 25,
   "metadata": {},
   "outputs": [],
   "source": [
    "url=\"https://www.google.com/search?q=cats&tbm=isch\""
   ]
  },
  {
   "cell_type": "code",
   "execution_count": 26,
   "metadata": {},
   "outputs": [],
   "source": [
    "browser.get(url)"
   ]
  },
  {
   "cell_type": "code",
   "execution_count": 27,
   "metadata": {},
   "outputs": [],
   "source": [
    "stub=\"https://www.google.com/search?q={}&tbm=isch\""
   ]
  },
  {
   "cell_type": "code",
   "execution_count": 28,
   "metadata": {},
   "outputs": [],
   "source": [
    "browser.get(stub.format(\"dogs\"))"
   ]
  },
  {
   "cell_type": "code",
   "execution_count": 29,
   "metadata": {},
   "outputs": [],
   "source": [
    "url=\"https://i.ytimg.com/vi/MPV2METPeJU/maxresdefault.jpg\""
   ]
  },
  {
   "cell_type": "code",
   "execution_count": 30,
   "metadata": {},
   "outputs": [],
   "source": [
    "response=requests.get(url)"
   ]
  },
  {
   "cell_type": "code",
   "execution_count": 31,
   "metadata": {},
   "outputs": [
    {
     "data": {
      "text/plain": [
       "200"
      ]
     },
     "execution_count": 31,
     "metadata": {},
     "output_type": "execute_result"
    }
   ],
   "source": [
    "response.status_code"
   ]
  },
  {
   "cell_type": "code",
   "execution_count": 32,
   "metadata": {},
   "outputs": [],
   "source": [
    "## response.content ### binary representation of image"
   ]
  },
  {
   "cell_type": "code",
   "execution_count": 34,
   "metadata": {},
   "outputs": [],
   "source": [
    "with open(\"/Users/gunnvantsaini/Documents/Work/dog1.jpeg\",\"wb\") as f:\n",
    "    f.write(response.content)"
   ]
  },
  {
   "cell_type": "code",
   "execution_count": 35,
   "metadata": {},
   "outputs": [],
   "source": [
    "browser.get(stub.format(\"dogs\"))"
   ]
  },
  {
   "cell_type": "code",
   "execution_count": 36,
   "metadata": {},
   "outputs": [],
   "source": [
    "imgs=browser.find_elements_by_css_selector(\"a.wXeWr.islib.nfEiy.mM5pbd\")"
   ]
  },
  {
   "cell_type": "code",
   "execution_count": 37,
   "metadata": {},
   "outputs": [
    {
     "data": {
      "text/plain": [
       "100"
      ]
     },
     "execution_count": 37,
     "metadata": {},
     "output_type": "execute_result"
    }
   ],
   "source": [
    "len(imgs)"
   ]
  },
  {
   "cell_type": "code",
   "execution_count": 38,
   "metadata": {},
   "outputs": [],
   "source": [
    "imgs[0].click()"
   ]
  },
  {
   "cell_type": "code",
   "execution_count": 39,
   "metadata": {},
   "outputs": [],
   "source": [
    "l=browser.find_element_by_css_selector(\"img.n3VNCb\")"
   ]
  },
  {
   "cell_type": "code",
   "execution_count": 41,
   "metadata": {},
   "outputs": [
    {
     "name": "stdout",
     "output_type": "stream",
     "text": [
      "['__class__', '__delattr__', '__dict__', '__dir__', '__doc__', '__eq__', '__format__', '__ge__', '__getattribute__', '__gt__', '__hash__', '__init__', '__init_subclass__', '__le__', '__lt__', '__module__', '__ne__', '__new__', '__reduce__', '__reduce_ex__', '__repr__', '__setattr__', '__sizeof__', '__str__', '__subclasshook__', '__weakref__', '_execute', '_id', '_parent', '_upload', '_w3c', 'anonymous_children', 'clear', 'click', 'find_anonymous_element_by_attribute', 'find_element', 'find_element_by_class_name', 'find_element_by_css_selector', 'find_element_by_id', 'find_element_by_link_text', 'find_element_by_name', 'find_element_by_partial_link_text', 'find_element_by_tag_name', 'find_element_by_xpath', 'find_elements', 'find_elements_by_class_name', 'find_elements_by_css_selector', 'find_elements_by_id', 'find_elements_by_link_text', 'find_elements_by_name', 'find_elements_by_partial_link_text', 'find_elements_by_tag_name', 'find_elements_by_xpath', 'get_attribute', 'get_property', 'id', 'is_displayed', 'is_enabled', 'is_selected', 'location', 'location_once_scrolled_into_view', 'parent', 'rect', 'screenshot', 'screenshot_as_base64', 'screenshot_as_png', 'send_keys', 'size', 'submit', 'tag_name', 'text', 'value_of_css_property']\n"
     ]
    }
   ],
   "source": [
    "print(dir(l))"
   ]
  },
  {
   "cell_type": "code",
   "execution_count": 42,
   "metadata": {},
   "outputs": [
    {
     "data": {
      "text/plain": [
       "'https://i.ytimg.com/vi/MPV2METPeJU/maxresdefault.jpg'"
      ]
     },
     "execution_count": 42,
     "metadata": {},
     "output_type": "execute_result"
    }
   ],
   "source": [
    "l.get_attribute(\"src\")"
   ]
  },
  {
   "cell_type": "code",
   "execution_count": 73,
   "metadata": {},
   "outputs": [],
   "source": [
    "browser.get(stub.format(\"dogs\"))"
   ]
  },
  {
   "cell_type": "code",
   "execution_count": 74,
   "metadata": {},
   "outputs": [],
   "source": [
    "imgs=browser.find_elements_by_css_selector(\"a.wXeWr.islib.nfEiy.mM5pbd\")"
   ]
  },
  {
   "cell_type": "code",
   "execution_count": 75,
   "metadata": {},
   "outputs": [],
   "source": [
    "import time\n",
    "from tqdm import tqdm"
   ]
  },
  {
   "cell_type": "code",
   "execution_count": 76,
   "metadata": {},
   "outputs": [
    {
     "name": "stderr",
     "output_type": "stream",
     "text": [
      "100it [01:21,  1.22it/s]\n"
     ]
    }
   ],
   "source": [
    "links_all=[]\n",
    "for idx,img in tqdm(enumerate(imgs)):\n",
    "    img.click()\n",
    "    time.sleep(0.5)\n",
    "    els=browser.find_elements_by_css_selector(\"img.n3VNCb\")\n",
    "    if idx==0:\n",
    "        links_all.append(els[0].get_attribute(\"src\"))\n",
    "    else:\n",
    "        links_all.append(els[1].get_attribute(\"src\"))"
   ]
  },
  {
   "cell_type": "code",
   "execution_count": 77,
   "metadata": {},
   "outputs": [
    {
     "data": {
      "text/plain": [
       "100"
      ]
     },
     "execution_count": 77,
     "metadata": {},
     "output_type": "execute_result"
    }
   ],
   "source": [
    "len(links_all)"
   ]
  },
  {
   "cell_type": "code",
   "execution_count": 78,
   "metadata": {},
   "outputs": [
    {
     "data": {
      "text/plain": [
       "['https://i.ytimg.com/vi/MPV2METPeJU/maxresdefault.jpg',\n",
       " 'https://d17fnq9dkz9hgj.cloudfront.net/breed-uploads/2018/09/dog-landing-hero-lg.jpg?bust=1536935129&width=1080',\n",
       " 'https://www.washingtonpost.com/resizer/uwlkeOwC_3JqSUXeH8ZP81cHx3I=/arc-anglerfish-washpost-prod-washpost/public/HB4AT3D3IMI6TMPTWIZ74WAR54.jpg',\n",
       " 'https://upload.wikimedia.org/wikipedia/commons/d/d9/Collage_of_Nine_Dogs.jpg',\n",
       " 'https://static.independent.co.uk/s3fs-public/thumbnails/image/2019/04/17/17/istock-1130140457.jpg',\n",
       " 'https://ichef.bbci.co.uk/wwfeatures/live/976_549/images/live/p0/7z/n7/p07zn7p7.jpg',\n",
       " 'https://post.healthline.com/wp-content/uploads/sites/3/2020/02/322868_1100-1100x628.jpg',\n",
       " 'https://www.nationalgeographic.com/content/dam/animals/thumbs/rights-exempt/mammals/d/domestic-dog_thumb.jpg',\n",
       " 'https://hips.hearstapps.com/hmg-prod.s3.amazonaws.com/images/gettyimages-1094874726.png?crop=0.542xw:0.814xh;0.0472xw,0.127xh&resize=640:*',\n",
       " 'https://www.sciencemag.org/sites/default/files/styles/article_main_large/public/dogs_1280p_0.jpg?itok=cnRk0HYq',\n",
       " 'https://si.wsj.net/public/resources/images/B3-EU419_201908_GR_20190822110317.jpg',\n",
       " 'https://img.webmd.com/dtmcms/live/webmd/consumer_assets/site_images/article_thumbnails/slideshows/surprises_about_dogs_and_cats_slideshow/1800x1200_surprises_about_dogs_and_cats_slideshow.jpg',\n",
       " 'https://image.cnbcfm.com/api/v1/image/105992231-1561667465295gettyimages-521697453.jpeg?v=1561667497',\n",
       " 'https://lh3.googleusercontent.com/proxy/mZdwnMCJxj3WPxNQO1GEfm462LP2LN9NsHGIOfcLMGwvdjuLtj1Jwjj3DmhuojE5M_cXaaWN0r5eAeOQ1g8PLDODGBkQ2v74Bptmd2dgPsuLCpaHP5JIuxJHgOKfX9ZkEaHljSIsLU30Zns',\n",
       " 'https://www.guidedogs.org/wp-content/uploads/2019/11/website-donate-mobile.jpg',\n",
       " 'https://hips.hearstapps.com/hmg-prod.s3.amazonaws.com/images/small-dog-breeds-lead-1550631680.jpg?crop=0.669xw:1.00xh;0.220xw,0&resize=640:*',\n",
       " 'https://images.theconversation.com/files/319375/original/file-20200309-118956-1cqvm6j.jpg?ixlib=rb-1.1.0&q=45&auto=format&w=1200&h=1200.0&fit=crop',\n",
       " 'https://cdn.mos.cms.futurecdn.net/JzqhuEDTRfCZKMKHUxPySB.jpg',\n",
       " 'https://www.thesprucepets.com/thmb/8ZHdLsYCzE7j8nDTO0y61UtynTA=/2094x1396/filters:fill(auto,1)/portrait-if-a-spitz-pomeranian_t20_v3o29E-5ae9bbdca18d9e0037d95983.jpg',\n",
       " 'https://static01.nyt.com/images/2019/06/17/science/17DOGS/17DOGS-superJumbo.jpg',\n",
       " 'https://vetstreet.brightspotcdn.com/dims4/default/54186d0/2147483647/thumbnail/590x420/quality/90/?url=https%3A%2F%2Fvetstreet-brightspot.s3.amazonaws.com%2F40%2F58%2F3bc5c01c4cdb8a0581681831faa9%2Fgreat-dane-shaking-paw-thinkstockphotos-522650067-590.jpg',\n",
       " 'https://i.guim.co.uk/img/media/20098ae982d6b3ba4d70ede3ef9b8f79ab1205ce/0_0_969_581/master/969.jpg?width=1200&height=630&quality=85&auto=format&fit=crop&overlay-align=bottom%2Cleft&overlay-width=100p&overlay-base64=L2ltZy9zdGF0aWMvb3ZlcmxheXMvdGctZGVmYXVsdC5wbmc&enable=upscale&s=d969d62511e65462007fc22d6036a5e1',\n",
       " 'https://cdn.theatlantic.com/thumbor/ChtN6cp8Sbv1WOf1rrIsYTm2egA=/54x268:2484x1634/720x405/media/img/mt/2019/07/GettyImages_138965532/original.jpg',\n",
       " 'https://boygeniusreport.files.wordpress.com/2016/11/puppy-dog.jpg?quality=98&strip=all&w=782',\n",
       " 'https://upload.wikimedia.org/wikipedia/commons/thumb/6/69/Dog_morphological_variation.png/300px-Dog_morphological_variation.png',\n",
       " 'https://hips.hearstapps.com/hmg-prod.s3.amazonaws.com/images/large-dog-breeds-lead-1550810820.jpg',\n",
       " 'https://ichef.bbci.co.uk/news/1024/branded_news/9B8B/production/_104191893_kukurtihar_papputhedog_-pappu_the_pug_nepal.png',\n",
       " 'https://s.abcnews.com/images/US/160825_vod_orig_historyofdogs_16x9_992.jpg',\n",
       " 'https://www.cdc.gov/healthypets/images/pets/cute-dog-headshot.jpg',\n",
       " 'https://cms.qz.com/wp-content/uploads/2019/12/daisydogbed-e1576690327821.jpg?quality=75&strip=all&w=1600&h=900&crop=1',\n",
       " 'https://hips.hearstapps.com/hmg-prod.s3.amazonaws.com/images/single-minded-royalty-free-image-997141470-1558379890.jpg?crop=0.671xw:1.00xh;0.0847xw,0&resize=640:*',\n",
       " 'https://akm-img-a-in.tosshub.com/indiatoday/images/story/201911/Dogs_0-770x433.jpeg?UGamK8zRlq1IP6qPUuLOhT1WVwcFPOOT',\n",
       " 'https://dogtime.com/assets/uploads/2016/04/small-apartment-dog-breeds-23-1280x720.jpg',\n",
       " 'https://www.humanesociety.org/sites/default/files/styles/1240x698/public/2019/02/dog-451643.jpg?h=bf654dbc&itok=MQGvBmuo',\n",
       " 'https://i.ytimg.com/vi/kHHMWNjp2KQ/maxresdefault.jpg',\n",
       " 'https://www.sciencenewsforstudents.org/wp-content/uploads/2019/11/083019_ls_dog-brains_feat_free-1028x579.jpg',\n",
       " 'https://i.guim.co.uk/img/media/fe1e34da640c5c56ed16f76ce6f994fa9343d09d/0_174_3408_2046/master/3408.jpg?width=1200&height=630&quality=85&auto=format&fit=crop&overlay-align=bottom%2Cleft&overlay-width=100p&overlay-base64=L2ltZy9zdGF0aWMvb3ZlcmxheXMvdGctZGVmYXVsdC5wbmc&s=80c1382fb025839e32693176909976c9',\n",
       " 'https://i.insider.com/5da9e261045a31389043bc43?width=1100&format=jpeg&auto=webp',\n",
       " 'https://i.dailymail.co.uk/1s/2019/11/18/16/21162158-0-image-a-44_1574095086222.jpg',\n",
       " 'https://images.ctfassets.net/cnu0m8re1exe/7k8H5OEZ4wqe7Wz2tEY3C/4773232b2e30af70de171a0ba789df81/Canine.jpg?w=650&h=433&fit=fill',\n",
       " 'https://images2.minutemediacdn.com/image/upload/c_crop,h_1348,w_2400,x_0,y_228/f_auto,q_auto,w_1100/v1569617327/shape/mentalfloss/601490flickr.jpg',\n",
       " 'https://static.scientificamerican.com/blogs/cache/file/7A1AA7B6-1E54-4974-96488CF81302DC7C_source.jpg?w=590&h=800&B84E174E-0675-48A0-971D72A4376AC80F',\n",
       " 'https://i.insider.com/5d433b8136e03c55c2108817?width=1100&format=jpeg&auto=webp',\n",
       " 'https://cdn.vox-cdn.com/thumbor/vi2i-zDzp5NXcdC_ryLPOdjCUHs=/0x0:960x766/1200x800/filters:focal(364x241:516x393)/cdn.vox-cdn.com/uploads/chorus_image/image/62205839/28168164_2070666143217709_4198638787596128369_n.0.jpg',\n",
       " 'https://thumbs-prod.si-cdn.com/w0y1MIgxiSpWTzYhFdAWirdD1ng=/fit-in/1600x0/https://public-media.si-cdn.com/filer/08/bb/08bb1e3f-7c82-4499-a9c7-4b4fcb22a484/dogs.jpg',\n",
       " 'https://www.thesun.co.uk/wp-content/uploads/2017/10/gettyimages-590486672-e1508512743796.jpg',\n",
       " 'https://img.webmd.com/dtmcms/live/webmd/consumer_assets/site_images/article_thumbnails/slideshows/how_to_brush_dogs_teeth_slideshow/1800x1200_how_to_brush_dogs_teeth_slideshow.jpg',\n",
       " 'https://api.time.com/wp-content/uploads/2018/07/how-dogs-think-thoughts-mind.jpg',\n",
       " 'https://static01.nyt.com/images/2019/12/17/multimedia/17OBS-frozenpuppy2/17OBS-frozenpuppy2-superJumbo-v2.jpg',\n",
       " 'https://cdn-prod.medicalnewstoday.com/content/images/hero/326/326253/326253_1100.jpg',\n",
       " 'https://media4.s-nbcnews.com/i/newscms/2019_23/2885811/190606-border-collie-mc-1318_5b1706791f4ae9ddb3029540a98f7e08.JPG',\n",
       " 'https://i0.wp.com/post.healthline.com/wp-content/uploads/2019/07/pregnant-woman-working-on-her-laptop-at-home-while-her-dog-looks-for-her-attention-1296x728-header-1296x728.jpg?w=1155&h=1528',\n",
       " 'https://www.noldus.com/images/core-blog/dogs-ied-bomb-detection.jpg',\n",
       " 'https://cdn.pixabay.com/photo/2016/12/13/05/15/puppy-1903313__340.jpg',\n",
       " 'https://images.theconversation.com/files/312698/original/file-20200130-154292-27dn98.jpg?ixlib=rb-1.1.0&q=45&auto=format&w=1200&h=1200.0&fit=crop',\n",
       " 'https://www.dw.com/image/49202627_303.jpg',\n",
       " 'https://i.insider.com/5484d9d1eab8ea3017b17e29?width=600&format=jpeg&auto=webp',\n",
       " 'https://encrypted-tbn0.gstatic.com/images?q=tbn%3AANd9GcSVVloWZp9O5Mc4ltr1xmg6S-t1kNwA4buMJLEqltIFPjXm4nfY&usqp=CAU',\n",
       " 'https://www.rd.com/wp-content/uploads/2018/05/shutterstock_1062336044.jpg',\n",
       " 'https://d17fnq9dkz9hgj.cloudfront.net/breed-uploads/2018/08/akita-card-medium.jpg?bust=1535569354',\n",
       " 'https://akc.org/wp-content/uploads/2015/04/Golden-Retriever-Five-Puppies.jpg',\n",
       " 'https://cdn.technologynetworks.com/tn/images/thumbs/jpeg/640_360/its-not-just-looks-that-dogs-and-owners-may-share-324162.jpg',\n",
       " 'https://www.humanesociety.org/sites/default/files/styles/1240x698/public/2018/08/dogs-meeting-440627.jpg?h=558430af&itok=CZRPtiWs',\n",
       " 'https://thumbs-prod.si-cdn.com/BBCqRWrIcgT27wW_55umBJ1rJac=/800x600/filters:no_upscale()/https://public-media.si-cdn.com/filer/2b/98/2b98ec47-682d-4844-b3b3-9410263a4f94/gj3m9r.jpg',\n",
       " 'https://cdn.britannica.com/60/8160-050-08CCEABC/German-shepherd.jpg',\n",
       " 'https://www.bmw.com/content/dam/bmw/marketBMWCOM/bmw_com/categories/automotive-life/driving-with-dogs/autofahren-hunde-02-media-wide-d.jpg.asset.1510611754820.jpg',\n",
       " 'https://assets.worldwildlife.org/photos/10605/images/story_full_width/Prairie_Dogs_Hank_Bentlage.jpg?1451937194',\n",
       " 'https://cdn.images.express.co.uk/img/dynamic/151/590x/canine-coronavirus-1242445.jpg?r=1581693600092',\n",
       " 'https://encrypted-tbn0.gstatic.com/images?q=tbn%3AANd9GcT7p_kJA6yUgC3fJBzDaPro__IPTeBTACLDzMX6kltSVKwmkbFQ&usqp=CAU',\n",
       " 'https://embed-fastly.wistia.com/deliveries/165620a97b31661be21aeb15f575f0c7396bb4bf.webp?image_crop_resized=960x540',\n",
       " 'https://i.guim.co.uk/img/media/20098ae982d6b3ba4d70ede3ef9b8f79ab1205ce/0_0_969_1005/master/969.jpg?width=300&quality=85&auto=format&fit=max&s=26fe0a6479a2b57e12f31c39e6b1c1ef',\n",
       " 'https://www.petriever.in/wp-content/uploads/2019/08/Indian-Spitz-Price-In-India.jpg',\n",
       " 'https://cdn.psychologytoday.com/sites/default/files/styles/amp_metadata_content_image_min_1200px_wide/public/field_blog_entry_teaser_image/2019-12/whiskers-144x144-58_0-720_720.jpg?itok=fy6vHZ0Z',\n",
       " 'https://i.ytimg.com/vi/YKPHYk4GB4g/maxresdefault.jpg',\n",
       " 'https://cdn.abcotvs.com/dip/images/5658635_103019-wls-panda-dogs-430a-vid.jpg?w=800&r=16%3A9',\n",
       " 'https://api.time.com/wp-content/uploads/2017/04/world-of-dogs-05.jpg?quality=85&w=1200&h=628&crop=1',\n",
       " 'https://cdn1-www.dogtime.com/assets/uploads/2019/11/beaglier-mixed-dog-breed-pictures-cover-650x368.jpg',\n",
       " 'https://media.npr.org/assets/img/2020/03/27/dogs-coronavirus_wide-727e336e95362df49c85e2908f8201eb234e2fbc.jpg?s=1400',\n",
       " 'https://static.independent.co.uk/s3fs-public/thumbnails/image/2019/11/29/08/puppy.jpg',\n",
       " 'https://www.cesarsway.com/wp-content/uploads/2015/06/When-dogs-attack.jpg',\n",
       " 'https://s.hdnux.com/photos/01/04/66/01/18047072/5/920x920.jpg',\n",
       " 'https://assets3.thrillist.com/v1/image/2843959/size/tmg-article_tall;jpeg_quality=20.jpg',\n",
       " 'https://s3fs.bestfriends.org/styles/home_page_1500/s3/promo_images/Rooster-dog-8351-sized.jpg?itok=zyFTSDN4',\n",
       " 'https://dq9sl48gkeyxk.cloudfront.net/wp-content/uploads/2018/05/DogLoyalty_eric-ward-610868-unsplash-1024x683.jpg',\n",
       " 'https://ichef.bbci.co.uk/news/410/cpsprodpb/7BE3/production/_109551713_mylo.jpg',\n",
       " 'https://static.boredpanda.com/blog/wp-content/uploads/2020/02/funny-dirty-dogs-53-5e53a6e1e9970__700.jpg',\n",
       " 'https://i2-prod.mirror.co.uk/incoming/article3827762.ece/ALTERNATES/s1200b/Puppy-Tugging-Pant-Leg.jpg',\n",
       " 'https://encrypted-tbn0.gstatic.com/images?q=tbn%3AANd9GcQQ7si1tEZgfO2lVTij3KB-xxgJLjFmYvWNt0KT1xCAbzxv3yGN&usqp=CAU',\n",
       " 'https://cdn.britannica.com/s:800x450,c:crop/69/187069-138-978A83CC/dogs-each-other.jpg',\n",
       " 'https://upload.wikimedia.org/wikipedia/commons/thumb/e/ea/Dog_coat_variation.png/220px-Dog_coat_variation.png',\n",
       " 'https://static.scientificamerican.com/sciam/cache/file/9B9F56BA-35DA-4F32-80EBE523AF0CB2B6_source.jpg?w=590&h=800&94ED707D-26D6-4AAA-91FEDE8662B48860',\n",
       " 'https://cdn.mos.cms.futurecdn.net/GK8d2douuvJ58mpSSSzgxH.jpg',\n",
       " 'https://cdn.cnn.com/cnnnext/dam/assets/200225150325-01-coronavirus-wuhan-pets-super-tease.jpg',\n",
       " 'https://i.insider.com/5d49e44036e03c14e071ad95?width=1100&format=jpeg&auto=webp',\n",
       " 'https://d279m997dpfwgl.cloudfront.net/wp/2019/08/dogs-1000x835.jpg',\n",
       " 'https://d39w7f4ix9f5s9.cloudfront.net/dims4/default/bb9c723/2147483647/strip/true/crop/1718x1333+141+0/resize/812x630!/quality/90/?url=http%3A%2F%2Famazon-blogs-brightspot.s3.amazonaws.com%2F8f%2Fed%2F6b4fa4c14800bf73794fa347f07f%2F20170516dogoftheweekrufus-js-04.JPG',\n",
       " 'https://img.huffingtonpost.com/asset/5e7e2a2d2400006a0bcea70f.jpeg?cache=R0jXBBGISf&ops=336_189%2Cquality_75',\n",
       " 'https://img.buzzfeed.com/buzzfeed-static/static/2019-09/17/18/campaign_images/a178d3bbcedc/an-iphone-11-pro-review-for-dogs-and-their-owners-2-1481-1568746659-0_dblbig.jpg',\n",
       " 'https://i.insider.com/5d2e0e30a17d6c5cfd30be94?width=600&format=jpeg&auto=webp',\n",
       " 'https://www.cesarsway.com/wp-content/uploads/2016/01/When-dogs-cry.jpg']"
      ]
     },
     "execution_count": 78,
     "metadata": {},
     "output_type": "execute_result"
    }
   ],
   "source": [
    "links_all"
   ]
  },
  {
   "cell_type": "code",
   "execution_count": 83,
   "metadata": {},
   "outputs": [],
   "source": [
    "def store_imgs(name,response):\n",
    "    with open(name,\"wb\") as f:\n",
    "        f.write(response.content)"
   ]
  },
  {
   "cell_type": "code",
   "execution_count": 84,
   "metadata": {},
   "outputs": [],
   "source": [
    "base_dir=\"/Users/gunnvantsaini/Documents/Work/images/\""
   ]
  },
  {
   "cell_type": "code",
   "execution_count": 86,
   "metadata": {},
   "outputs": [
    {
     "name": "stderr",
     "output_type": "stream",
     "text": [
      "\n",
      "0it [00:00, ?it/s]\u001b[A\n",
      "1it [00:00,  3.20it/s]\u001b[A\n",
      "2it [00:00,  3.11it/s]\u001b[A\n",
      "3it [00:10,  3.16s/it]\u001b[A\n",
      "4it [00:12,  2.70s/it]\u001b[A\n",
      "5it [00:14,  2.63s/it]\u001b[A\n",
      "6it [00:15,  2.01s/it]\u001b[A\n",
      "7it [00:16,  1.69s/it]\u001b[A\n",
      "8it [00:21,  2.86s/it]\u001b[A\n",
      "9it [00:22,  2.27s/it]\u001b[A\n",
      "10it [00:24,  2.21s/it]\u001b[A\n",
      "11it [00:24,  1.62s/it]\u001b[A\n",
      "12it [00:25,  1.34s/it]\u001b[A\n",
      "13it [00:25,  1.01s/it]\u001b[A\n",
      "14it [00:26,  1.26it/s]\u001b[A\n",
      "15it [00:32,  2.46s/it]\u001b[A\n",
      "16it [00:32,  1.80s/it]\u001b[A\n",
      "17it [00:33,  1.39s/it]\u001b[A\n",
      "18it [00:36,  2.08s/it]\u001b[A\n",
      "19it [00:37,  1.63s/it]\u001b[A\n",
      "20it [00:37,  1.29s/it]\u001b[A\n",
      "21it [00:38,  1.01s/it]\u001b[A\n",
      "22it [00:38,  1.24it/s]\u001b[A\n",
      "23it [00:40,  1.06s/it]\u001b[A\n",
      "24it [00:40,  1.10it/s]\u001b[A\n",
      "25it [00:41,  1.28it/s]\u001b[A\n",
      "26it [00:41,  1.51it/s]\u001b[A\n",
      "27it [00:54,  4.26s/it]\u001b[A\n",
      "28it [00:55,  3.43s/it]\u001b[A\n",
      "29it [00:58,  3.28s/it]\u001b[A\n",
      "30it [00:59,  2.43s/it]\u001b[A\n",
      "31it [00:59,  1.87s/it]\u001b[A\n",
      "32it [01:00,  1.57s/it]\u001b[A\n",
      "33it [01:01,  1.25s/it]\u001b[A\n",
      "34it [01:01,  1.00it/s]\u001b[A\n",
      "35it [01:02,  1.00it/s]\u001b[A\n",
      "36it [01:02,  1.23it/s]\u001b[A\n",
      "37it [01:03,  1.49it/s]\u001b[A\n",
      "38it [01:03,  1.74it/s]\u001b[A\n",
      "39it [01:05,  1.03it/s]\u001b[A\n",
      "40it [01:05,  1.39it/s]\u001b[A\n",
      "41it [01:05,  1.71it/s]\u001b[A\n",
      "42it [01:06,  2.04it/s]\u001b[A\n",
      "43it [01:06,  2.38it/s]\u001b[A\n",
      "44it [01:08,  1.29it/s]\u001b[A\n",
      "45it [01:08,  1.60it/s]\u001b[A\n",
      "46it [01:08,  1.70it/s]\u001b[A\n",
      "47it [01:09,  1.82it/s]\u001b[A\n",
      "48it [01:10,  1.25it/s]\u001b[A\n",
      "49it [01:11,  1.25it/s]\u001b[A\n",
      "50it [01:11,  1.47it/s]\u001b[A\n",
      "51it [01:12,  1.78it/s]\u001b[A\n",
      "52it [01:12,  2.01it/s]\u001b[A\n",
      "53it [01:13,  1.27it/s]\u001b[A\n",
      "54it [01:14,  1.61it/s]\u001b[A\n",
      "55it [01:14,  1.74it/s]\u001b[A\n",
      "56it [01:15,  1.56it/s]\u001b[A\n",
      "57it [01:15,  1.89it/s]\u001b[A\n",
      "58it [01:15,  2.43it/s]\u001b[A\n",
      "59it [01:16,  2.78it/s]\u001b[A\n",
      "60it [01:16,  3.41it/s]\u001b[A\n",
      "61it [01:16,  3.59it/s]\u001b[A\n",
      "62it [01:19,  1.18s/it]\u001b[A\n",
      "63it [01:20,  1.04it/s]\u001b[A\n",
      "64it [01:20,  1.34it/s]\u001b[A\n",
      "65it [01:20,  1.54it/s]\u001b[A\n",
      "66it [01:21,  1.76it/s]\u001b[A\n",
      "67it [01:21,  1.99it/s]\u001b[A\n",
      "68it [01:22,  1.37it/s]\u001b[A\n",
      "69it [01:22,  1.81it/s]\u001b[A\n",
      "70it [01:23,  2.21it/s]\u001b[A\n",
      "71it [01:23,  2.71it/s]\u001b[A\n",
      "72it [01:23,  2.69it/s]\u001b[A\n",
      "73it [01:23,  3.04it/s]\u001b[A\n",
      "74it [01:24,  3.28it/s]\u001b[A\n",
      "75it [01:26,  1.13it/s]\u001b[A\n",
      "76it [01:26,  1.41it/s]\u001b[A\n",
      "77it [01:27,  1.63it/s]\u001b[A\n",
      "78it [01:28,  1.28it/s]\u001b[A\n",
      "79it [01:28,  1.41it/s]\u001b[A\n",
      "80it [01:30,  1.03s/it]\u001b[A\n",
      "81it [01:31,  1.17it/s]\u001b[A\n",
      "82it [01:32,  1.02it/s]\u001b[A\n",
      "83it [01:32,  1.24it/s]\u001b[A\n",
      "84it [01:33,  1.55it/s]\u001b[A\n",
      "85it [01:33,  1.69it/s]\u001b[A\n",
      "86it [01:35,  1.09s/it]\u001b[A\n",
      "87it [01:36,  1.14s/it]\u001b[A\n",
      "88it [01:37,  1.18it/s]\u001b[A\n",
      "89it [01:37,  1.53it/s]\u001b[A\n",
      "90it [01:38,  1.44it/s]\u001b[A\n",
      "91it [01:38,  1.77it/s]\u001b[A\n",
      "92it [01:39,  1.15it/s]\u001b[A\n",
      "93it [01:40,  1.41it/s]\u001b[A\n",
      "94it [01:40,  1.69it/s]\u001b[A\n",
      "95it [01:40,  1.94it/s]\u001b[A\n",
      "96it [01:41,  2.33it/s]\u001b[A\n",
      "97it [01:41,  2.96it/s]\u001b[A\n",
      "98it [01:41,  2.67it/s]\u001b[A\n",
      "99it [01:42,  2.67it/s]\u001b[A\n",
      "100it [01:43,  1.04s/it]\u001b[A\n"
     ]
    }
   ],
   "source": [
    "for idx,url in tqdm(enumerate(links_all)):\n",
    "    try:\n",
    "        response=requests.get(url)\n",
    "    except:\n",
    "        continue\n",
    "    if response.status_code==200:\n",
    "        name=base_dir+str(idx)+\".jpeg\"\n",
    "        store_imgs(name,response)"
   ]
  },
  {
   "cell_type": "code",
   "execution_count": null,
   "metadata": {},
   "outputs": [],
   "source": []
  }
 ],
 "metadata": {
  "kernelspec": {
   "display_name": "Python 3",
   "language": "python",
   "name": "python3"
  },
  "language_info": {
   "codemirror_mode": {
    "name": "ipython",
    "version": 3
   },
   "file_extension": ".py",
   "mimetype": "text/x-python",
   "name": "python",
   "nbconvert_exporter": "python",
   "pygments_lexer": "ipython3",
   "version": "3.7.3"
  }
 },
 "nbformat": 4,
 "nbformat_minor": 4
}
